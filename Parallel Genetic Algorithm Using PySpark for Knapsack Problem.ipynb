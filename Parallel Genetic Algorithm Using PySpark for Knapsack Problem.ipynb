{
 "cells": [
  {
   "cell_type": "markdown",
   "metadata": {},
   "source": [
    "# Parallel Genetic Algorithm Using PySpark for Knapsack Problem    \n",
    "    Author: Furkan Cantürk\n",
    "    Date: 15.01.2021"
   ]
  },
  {
   "cell_type": "code",
   "execution_count": 1,
   "metadata": {},
   "outputs": [],
   "source": [
    "from pyspark import SparkContext, SparkConf, SQLContext\n",
    "from pyspark.sql import SparkSession, Row\n",
    "from pyspark.sql.functions import udf\n",
    "from pyspark.sql import functions as F\n",
    "import os\n",
    "from pyspark.sql.types import *\n",
    "from sklearn.preprocessing import MinMaxScaler\n",
    "import csv\n",
    "import pyspark\n",
    "import matplotlib.pyplot as plt\n",
    "import pickle\n",
    "import random\n",
    "import pandas as pd\n",
    "from time import time, sleep\n",
    "import numpy as np\n",
    "from copy import deepcopy\n",
    "np.random.seed(1)\n",
    "random.seed(1)"
   ]
  },
  {
   "cell_type": "markdown",
   "metadata": {},
   "source": [
    "## Knapsack Instance Generation"
   ]
  },
  {
   "cell_type": "code",
   "execution_count": 2,
   "metadata": {},
   "outputs": [
    {
     "name": "stdout",
     "output_type": "stream",
     "text": [
      "Number of items: 1000\n",
      "Total knapsack capacity: 303414\n",
      "10 505.69 1000\n",
      "0 253.558 930\n"
     ]
    },
    {
     "data": {
      "image/png": "[encoded data removed]",
      "text/plain": [
       "<Figure size 432x288 with 1 Axes>"
      ]
     },
     "metadata": {
      "needs_background": "light"
     },
     "output_type": "display_data"
    }
   ],
   "source": [
    "n_items = 1000\n",
    "min_w = 10\n",
    "max_w = min_w * 100\n",
    "weight = np.random.randint(min_w, max_w+1, n_items).astype(int)\n",
    "profit = ((np.random.random(n_items)) * weight).astype(int) \n",
    "item_idx = np.arange(n_items)\n",
    "\n",
    "min_p = np.min(profit)\n",
    "max_p = np.max(profit)\n",
    "mean_p = np.mean(profit)\n",
    "mean_w = np.mean(weight)\n",
    "\n",
    "W = int(mean_w * n_items * 0.6)\n",
    "print(\"Number of items:\",n_items)\n",
    "print(\"Total knapsack capacity:\", W)\n",
    "print(min_w, mean_w, max_w)\n",
    "print(min_p, mean_p, max_p)\n",
    "plt.scatter(x=weight, y=profit)\n",
    "plt.xlabel(\"weight\")\n",
    "plt.ylabel(\"profit\")\n",
    "plt.title(\"Distribution of Items\")\n",
    "plt.show()"
   ]
  },
  {
   "cell_type": "markdown",
   "metadata": {},
   "source": [
    "## Initial Population Generation"
   ]
  },
  {
   "cell_type": "code",
   "execution_count": 3,
   "metadata": {},
   "outputs": [
    {
     "name": "stdout",
     "output_type": "stream",
     "text": [
      "Population size: 10000\n",
      "Mean profit: 126847.301\n",
      "Max. profit: 145100\n"
     ]
    }
   ],
   "source": [
    "population_size = 10000\n",
    "n_generations = 1\n",
    "init_population = np.random.randint(0, 2, (int(population_size*1.5),n_items), dtype=bool)\n",
    "init_population = list(filter(lambda chromosome: np.sum(chromosome * weight) <= W, init_population))[:population_size]\n",
    "init_profits = np.sum(np.array(init_population) * profit, axis=1)\n",
    "init_mean_profit = np.mean(init_profits)\n",
    "init_max_profit = np.max(init_profits)\n",
    "print(\"Population size:\", len(init_population))\n",
    "print(\"Mean profit:\", init_mean_profit)\n",
    "print(\"Max. profit:\", init_max_profit)"
   ]
  },
  {
   "cell_type": "markdown",
   "metadata": {},
   "source": [
    "# Greedy Heuristic Solution"
   ]
  },
  {
   "cell_type": "code",
   "execution_count": 4,
   "metadata": {},
   "outputs": [
    {
     "name": "stdout",
     "output_type": "stream",
     "text": [
      "#selected items: 598 total weight: 303406 total profit: 212316\n"
     ]
    }
   ],
   "source": [
    "ratio = profit/weight\n",
    "sorted_item_idx = sorted(item_idx, key=lambda x: ratio[x], reverse=True)\n",
    "total_w = 0\n",
    "total_p = 0\n",
    "knapsack = []\n",
    "for i in sorted_item_idx:\n",
    "    if total_w + weight[i] <= W:\n",
    "        knapsack.append(i)\n",
    "        total_w += weight[i]\n",
    "        total_p += profit[i]\n",
    "print(\"#selected items:\",len(knapsack), \"total weight:\",total_w, \"total profit:\",total_p)"
   ]
  },
  {
   "cell_type": "code",
   "execution_count": 26,
   "metadata": {},
   "outputs": [],
   "source": [
    "spark.stop()"
   ]
  },
  {
   "cell_type": "markdown",
   "metadata": {},
   "source": [
    "## Spark Session"
   ]
  },
  {
   "cell_type": "code",
   "execution_count": 27,
   "metadata": {},
   "outputs": [
    {
     "name": "stdout",
     "output_type": "stream",
     "text": [
      "#parallel processors: 2\n"
     ]
    },
    {
     "data": {
      "text/html": [
       "\n",
       "        <div>\n",
       "            <p><b>SparkContext</b></p>\n",
       "\n",
       "            <p><a href=\"http://DESKTOP-192JFUF:4040\">Spark UI</a></p>\n",
       "\n",
       "            <dl>\n",
       "              <dt>Version</dt>\n",
       "                <dd><code>v3.0.1</code></dd>\n",
       "              <dt>Master</dt>\n",
       "                <dd><code>local[2]</code></dd>\n",
       "              <dt>AppName</dt>\n",
       "                <dd><code>test</code></dd>\n",
       "            </dl>\n",
       "        </div>\n",
       "        "
      ],
      "text/plain": [
       "<SparkContext master=local[2] appName=test>"
      ]
     },
     "execution_count": 27,
     "metadata": {},
     "output_type": "execute_result"
    }
   ],
   "source": [
    "n_processors = 2\n",
    "spark = SparkSession.builder \\\n",
    "       .master(f\"local[{n_processors}]\") \\\n",
    "       .appName(\"test\") \\\n",
    "       .config(\"spark.driver.memory\", \"5g\")\\\n",
    "       .getOrCreate()\n",
    "sc = spark.sparkContext\n",
    "sql_context = SQLContext(sc)\n",
    "sql_context.setConf(\"spark.sql.execution.arrow.pyspark.enabled\", \"true\")\n",
    "print(\"#parallel processors:\", sc.defaultParallelism)\n",
    "sc"
   ]
  },
  {
   "cell_type": "code",
   "execution_count": 21,
   "metadata": {},
   "outputs": [],
   "source": [
    "spark.stop()"
   ]
  },
  {
   "cell_type": "code",
   "execution_count": 6,
   "metadata": {},
   "outputs": [
    {
     "data": {
      "text/plain": [
       "[('spark.app.name', 'test'),\n",
       " ('spark.driver.host', 'DESKTOP-192JFUF'),\n",
       " ('spark.driver.port', '51296'),\n",
       " ('spark.rdd.compress', 'True'),\n",
       " ('spark.serializer.objectStreamReset', '100'),\n",
       " ('spark.submit.pyFiles', ''),\n",
       " ('spark.executor.id', 'driver'),\n",
       " ('spark.submit.deployMode', 'client'),\n",
       " ('spark.driver.memory', '5g'),\n",
       " ('spark.ui.showConsoleProgress', 'true'),\n",
       " ('spark.master', 'local[1]'),\n",
       " ('spark.app.id', 'local-1610877049907')]"
      ]
     },
     "execution_count": 6,
     "metadata": {},
     "output_type": "execute_result"
    }
   ],
   "source": [
    "spark.sparkContext._conf.getAll() "
   ]
  },
  {
   "cell_type": "markdown",
   "metadata": {},
   "source": [
    "# Parallel GA"
   ]
  },
  {
   "cell_type": "code",
   "execution_count": 11,
   "metadata": {},
   "outputs": [
    {
     "name": "stdout",
     "output_type": "stream",
     "text": [
      "24.75 169187.7 174506\n"
     ]
    }
   ],
   "source": [
    "def produce_new_generation(i, sub_population):\n",
    "    global gn, migration_period\n",
    "    population_lst = list(sub_population) \n",
    "    pop_size = len(population_lst)\n",
    "    \n",
    "    if gn > migration_period and gn % migration_period == 0:\n",
    "        print(i, gn)\n",
    "        try:\n",
    "            best_individuals = [pickle.load(open(f\"best{part_id}.pkl\", \"rb\")) for part_id in range(n_partitions) if part_id != i]\n",
    "            population_lst.extend(best_individuals)\n",
    "        except:\n",
    "            print(\"Other executor is writing on the file right now\")\n",
    "            print(\"Waiting for 0.001 seconds\")\n",
    "            sleep(0.001)\n",
    "            best_individuals = [pickle.load(open(f\"best{part_id}.pkl\", \"rb\")) for part_id in range(n_partitions) if part_id != i]\n",
    "            population_lst.extend(best_individuals)\n",
    "\n",
    "        \n",
    "    mating_pool = []\n",
    "    for _i in range(pop_size):\n",
    "        parent_1, parent_2 = random.choices(population_lst, k=2)\n",
    "        selected_p = random.choices([parent_1, parent_2], k=1, weights=[parent_1['profit'], parent_2['profit']])[0]\n",
    "        mating_pool.append(selected_p)\n",
    "    \n",
    "    new_generation = []\n",
    "\n",
    "    iter_pool = iter(mating_pool)\n",
    "    p1 = next(iter_pool)\n",
    "    best_individual = p1\n",
    "    new_gen_profits = []\n",
    "   \n",
    "    while p1:\n",
    "        p2 = next(iter_pool, False)\n",
    "        if not p2:\n",
    "            break\n",
    "        c1, c2 = generate_children(i, p1, p2, n_trials=10)\n",
    "        i1, i2 = choose(p1, p2, c1, c2)\n",
    "\n",
    "        if i1.profit > best_individual.profit:\n",
    "            best_individual = i1\n",
    "        elif i2.profit > best_individual.profit:   \n",
    "            best_individual = i2\n",
    "        \n",
    "        if (W - i1.weight)/W > random.random():\n",
    "            i1 = mutation(i1)\n",
    "        elif (W - i2.weight)/W > random.random():\n",
    "            i2 = mutation(i2)\n",
    "            \n",
    "        new_generation.extend([i1, i2])\n",
    "        new_gen_profits.extend([i1.profit, i2.profit])\n",
    "        \n",
    "        p1 = next(iter_pool, False)\n",
    "    \n",
    "    with open(f\"best{i}.pkl\", \"wb\") as f:\n",
    "        pickle.dump(best_individual, f)\n",
    "        f.close()\n",
    "    if save_population:\n",
    "        with open(f\"sub_population_{i}.csv\", \"a\") as f:\n",
    "            wr = csv.writer(f, dialect='excel')\n",
    "            wr.writerow(new_gen_profits)\n",
    "\n",
    "    return new_generation\n",
    "\n",
    "def generate_children(i, parent_1, parent_2, n_trials):\n",
    "    for i in range(n_trials):\n",
    "        child_1, child_2 = crossover(i, parent_1, parent_2)\n",
    "        if child_1.weight <= W and child_2.weight <= W:\n",
    "            return child_1, child_2\n",
    "    return parent_1, parent_2\n",
    "\n",
    "def choose(parent_1, parent_2, child_1, child_2):\n",
    "    return sorted([parent_1, parent_2, child_1, child_2], key=lambda i: -i.profit)[:2]\n",
    "\n",
    "def crossover(i, parent_1, parent_2, n_splits=1):\n",
    "    split = next(splits[i%4]())\n",
    "    new_chrom_1 = np.hstack((parent_1.chromosome[:split], parent_2.chromosome[split:]))\n",
    "    new_chrom_2 = np.hstack((parent_2.chromosome[:split], parent_1.chromosome[split:]))    \n",
    "    child_1 = Row(chromosome=new_chrom_1, profit=int(np.sum(new_chrom_1 * profit)), weight=int(np.sum(new_chrom_1 * weight)))\n",
    "    child_2 = Row(chromosome=new_chrom_2, profit=int(np.sum(new_chrom_2 * profit)), weight=int(np.sum(new_chrom_2 * weight)))\n",
    "    return child_1, child_2\n",
    "\n",
    "def s0():\n",
    "    yield np.random.randint(0, n_items*0.25)\n",
    "def s1():\n",
    "    yield np.random.randint(n_items*0.25, n_items*0.5)\n",
    "def s2():\n",
    "    yield np.random.randint(n_items*0.5, n_items*0.75)\n",
    "def s3():\n",
    "    yield np.random.randint(n_items*0.75, n_items)\n",
    "    \n",
    "splits = {0: s0, 1:s1, 2:s2, 3:s3}\n",
    "\n",
    "def mutation(individual, n_trials=5):\n",
    "    n_genes_to_be_mutated = int((W - individual.weight) / mean_w)\n",
    "    for x in range(n_trials):\n",
    "        new_chro = individual.chromosome.copy()\n",
    "        selected_genes = random.choices((new_chro == False).nonzero()[0], k=n_genes_to_be_mutated)\n",
    "        new_chro[selected_genes] = True\n",
    "        new_w = int(np.sum(new_chro * weight))\n",
    "        if new_w <= W:\n",
    "            new_p = int(np.sum(new_chro * profit))\n",
    "            return Row(chromosome=new_chro, profit=new_p, weight=new_w)\n",
    "        else:\n",
    "            del new_chro\n",
    "    return individual\n",
    "\n",
    "def increment_generation_time(x):\n",
    "    global generation_no\n",
    "    generation_no.add(1/n_partitions)\n",
    "\n",
    "\n",
    "results = []\n",
    "periods = [2, 4, 8, 16, 32]\n",
    "n_generations = 64\n",
    "n_partitions = 4\n",
    "save_population = False\n",
    "for p in periods:      \n",
    "    st = time()\n",
    "\n",
    "    rdd_of_rows = sc.parallelize([Row(chromosome=chromosome, \n",
    "                                      profit=int(np.sum(chromosome * profit)), \n",
    "                                      weight=int(np.sum(chromosome * weight))) \n",
    "                                  for chromosome in init_population],\n",
    "                                 n_partitions)\n",
    "\n",
    "    migration_period = p\n",
    "    generation_no = sc.accumulator(1.0)\n",
    "    migrant_freq = 1/migration_period \n",
    "\n",
    "    for gen in range(1, n_generations+1):\n",
    "        gn = generation_no.value\n",
    "        rdd_of_rows = rdd_of_rows.mapPartitionsWithIndex(produce_new_generation)\n",
    "        if gen > n_generations:\n",
    "            if gen%migration_period == 0:\n",
    "                rdd_of_rows.foreachPartition(increment_generation_time)\n",
    "            else:\n",
    "                generation_no.add(1)\n",
    "\n",
    "\n",
    "    result = rdd_of_rows.filter(lambda individual: individual.profit >= init_mean_profit ).collect() \n",
    "    result_profits = [i.profit for i in result]\n",
    "    mean_profit, max_profit = round(np.mean(result_profits),1), np.max(result_profits)\n",
    "    best_sol = max(result, key=lambda individual: individual.profit)\n",
    "    total_time = round(time() - st,2)\n",
    "    results.append([n_generations, migrant_freq, total_time, mean_profit, max_profit])\n",
    "    print(total_time, mean_profit, max_profit)"
   ]
  },
  {
   "cell_type": "code",
   "execution_count": 32,
   "metadata": {},
   "outputs": [
    {
     "name": "stdout",
     "output_type": "stream",
     "text": [
      "20.09 169219.5 174134\n"
     ]
    }
   ],
   "source": [
    "st = time()\n",
    "\n",
    "rdd_of_rows = sc.parallelize([Row(chromosome=chromosome, \n",
    "                                  profit=int(np.sum(chromosome * profit)), \n",
    "                                  weight=int(np.sum(chromosome * weight))) \n",
    "                              for chromosome in init_population],\n",
    "                             n_partitions)\n",
    "n_generations = 25\n",
    "migration_period = 100\n",
    "generation_no = sc.accumulator(1.0)\n",
    "migrant_freq = 1/migration_period \n",
    "\n",
    "for gen in range(1, n_generations+1):\n",
    "    gn = generation_no.value\n",
    "    rdd_of_rows = rdd_of_rows.mapPartitionsWithIndex(produce_new_generation)\n",
    "    #if gen > n_generations:\n",
    "    #    if gen%migration_period == 0:\n",
    "    #        rdd_of_rows.foreachPartition(increment_generation_time)\n",
    "    #    else:\n",
    "    #        generation_no.add(1)\n",
    "\n",
    "result = rdd_of_rows.filter(lambda individual: individual.profit >= init_mean_profit ).collect() \n",
    "result_profits = [i.profit for i in result]\n",
    "mean_profit, max_profit = round(np.mean(result_profits),1), np.max(result_profits)\n",
    "best_sol = max(result, key=lambda individual: individual.profit)\n",
    "total_time = round(time() - st,2)\n",
    "results.append([n_generations, migrant_freq, total_time, mean_profit, max_profit])\n",
    "print(total_time, mean_profit, max_profit)"
   ]
  },
  {
   "cell_type": "code",
   "execution_count": 68,
   "metadata": {},
   "outputs": [
    {
     "data": {
      "text/html": [
       "<div>\n",
       "<style scoped>\n",
       "    .dataframe tbody tr th:only-of-type {\n",
       "        vertical-align: middle;\n",
       "    }\n",
       "\n",
       "    .dataframe tbody tr th {\n",
       "        vertical-align: top;\n",
       "    }\n",
       "\n",
       "    .dataframe thead th {\n",
       "        text-align: right;\n",
       "    }\n",
       "</style>\n",
       "<table border=\"1\" class=\"dataframe\">\n",
       "  <thead>\n",
       "    <tr style=\"text-align: right;\">\n",
       "      <th></th>\n",
       "      <th>n_generations</th>\n",
       "      <th>migration_freq</th>\n",
       "      <th>time</th>\n",
       "      <th>mean_profit</th>\n",
       "      <th>max_profit</th>\n",
       "    </tr>\n",
       "  </thead>\n",
       "  <tbody>\n",
       "    <tr>\n",
       "      <th>0</th>\n",
       "      <td>64</td>\n",
       "      <td>0.50000</td>\n",
       "      <td>307.24</td>\n",
       "      <td>194112.0</td>\n",
       "      <td>194112</td>\n",
       "    </tr>\n",
       "    <tr>\n",
       "      <th>1</th>\n",
       "      <td>64</td>\n",
       "      <td>0.25000</td>\n",
       "      <td>156.97</td>\n",
       "      <td>191451.0</td>\n",
       "      <td>191451</td>\n",
       "    </tr>\n",
       "    <tr>\n",
       "      <th>2</th>\n",
       "      <td>64</td>\n",
       "      <td>0.12500</td>\n",
       "      <td>85.90</td>\n",
       "      <td>186227.0</td>\n",
       "      <td>186227</td>\n",
       "    </tr>\n",
       "    <tr>\n",
       "      <th>3</th>\n",
       "      <td>64</td>\n",
       "      <td>0.06250</td>\n",
       "      <td>52.23</td>\n",
       "      <td>185028.0</td>\n",
       "      <td>185028</td>\n",
       "    </tr>\n",
       "    <tr>\n",
       "      <th>4</th>\n",
       "      <td>64</td>\n",
       "      <td>0.03125</td>\n",
       "      <td>40.07</td>\n",
       "      <td>186481.7</td>\n",
       "      <td>188272</td>\n",
       "    </tr>\n",
       "  </tbody>\n",
       "</table>\n",
       "</div>"
      ],
      "text/plain": [
       "   n_generations  migration_freq    time  mean_profit  max_profit\n",
       "0             64         0.50000  307.24     194112.0      194112\n",
       "1             64         0.25000  156.97     191451.0      191451\n",
       "2             64         0.12500   85.90     186227.0      186227\n",
       "3             64         0.06250   52.23     185028.0      185028\n",
       "4             64         0.03125   40.07     186481.7      188272"
      ]
     },
     "execution_count": 68,
     "metadata": {},
     "output_type": "execute_result"
    }
   ],
   "source": [
    "pd.DataFrame(results, columns=[\"n_generations\", \"migration_freq\", \"time\", \"mean_profit\", \"max_profit\"])"
   ]
  },
  {
   "cell_type": "markdown",
   "metadata": {},
   "source": [
    "# Sequential GA"
   ]
  },
  {
   "cell_type": "code",
   "execution_count": 69,
   "metadata": {},
   "outputs": [
    {
     "name": "stdout",
     "output_type": "stream",
     "text": [
      "88.87 181714 182610\n"
     ]
    }
   ],
   "source": [
    "def produce_new_generation(population_lst):\n",
    "    mating_pool = []\n",
    "    pop_size = len(population_lst)\n",
    "    for _i in range(pop_size):\n",
    "        parent_1, parent_2 = random.choices(population_lst, k=2)\n",
    "        selected_p = random.choices([parent_1, parent_2], k=1, weights=[parent_1.profit, parent_2.profit])[0]\n",
    "        mating_pool.append(selected_p)\n",
    "    \n",
    "    new_generation = []\n",
    "\n",
    "    iter_pool = iter(mating_pool)\n",
    "    p1 = next(iter_pool)\n",
    "    best_individual = p1\n",
    "    new_gen_profits = []\n",
    "   \n",
    "    while p1:\n",
    "        p2 = next(iter_pool)\n",
    "        c1, c2 = generate_children(p1, p2, n_trials=10)\n",
    "        i1, i2 = choose(p1, p2, c1, c2)\n",
    "\n",
    "        if i1.profit > best_individual.profit:\n",
    "            best_individual = i1\n",
    "        elif i2.profit > best_individual.profit:   \n",
    "            best_individual = i2\n",
    "        \n",
    "        if True:\n",
    "            if (W - i1.weight)/W > random.random():\n",
    "                i1 = mutation(i1)\n",
    "            elif (W - i2.weight)/W > random.random():\n",
    "                i2 = mutation(i2)\n",
    "            \n",
    "        new_generation.extend([i1, i2])\n",
    "        new_gen_profits.extend([i1.profit, i2.profit])\n",
    "        \n",
    "        p1 = next(iter_pool, False)\n",
    "    \n",
    "    return new_generation\n",
    "\n",
    "def generate_children(parent_1, parent_2, n_trials):\n",
    "    for i in range(n_trials):\n",
    "        child_1, child_2 = crossover(parent_1, parent_2)\n",
    "        if child_1.weight <= W and child_2.weight <= W:\n",
    "            return child_1, child_2\n",
    "    return parent_1, parent_2\n",
    "\n",
    "def choose(parent_1, parent_2, child_1, child_2):\n",
    "    return sorted([parent_1, parent_2, child_1, child_2], key=lambda i: -i.profit)[:2]\n",
    "\n",
    "def crossover(parent_1, parent_2):\n",
    "    split = np.random.randint(np.ceil(n_items/4), np.ceil(n_items*0.75))\n",
    "    new_chrom_1 = np.hstack((parent_1.chromosome[:split], parent_2.chromosome[split:]))\n",
    "    new_chrom_2 = np.hstack((parent_2.chromosome[:split], parent_1.chromosome[split:]))    \n",
    "    child_1 = Row(chromosome=new_chrom_1, profit=int(np.sum(new_chrom_1 * profit)), weight=int(np.sum(new_chrom_1 * weight)))\n",
    "    child_2 = Row(chromosome=new_chrom_2, profit=int(np.sum(new_chrom_2 * profit)), weight=int(np.sum(new_chrom_2 * weight)))\n",
    "    return child_1, child_2\n",
    "\n",
    "def mutation(individual, n_trials=5):\n",
    "    n_genes_to_be_mutated = int((W - individual.weight) / mean_w)\n",
    "    for x in range(n_trials):\n",
    "        new_chro = individual.chromosome.copy()\n",
    "        selected_genes = random.choices((new_chro == False).nonzero()[0], k=n_genes_to_be_mutated)\n",
    "        new_chro[selected_genes] = True\n",
    "        new_w = int(np.sum(new_chro * weight))\n",
    "        if new_w <= W:\n",
    "            new_p = int(np.sum(new_chro * profit))\n",
    "            return Row(chromosome=new_chro, profit=new_p, weight=new_w)\n",
    "        else:\n",
    "            del new_chro\n",
    "    return individual\n",
    "\n",
    "st = time()\n",
    "\n",
    "population = [Row(chromosome=chromosome, \n",
    "                  profit=int(np.sum(chromosome * profit)), \n",
    "                  weight=int(np.sum(chromosome * weight))) \n",
    "              for chromosome in init_population]\n",
    "\n",
    "for i in range(n_generations):\n",
    "    population = produce_new_generation(population)\n",
    "\n",
    "result2 = list(filter(lambda individual: individual.profit >= init_mean_profit, population))\n",
    "result_profits2 = [i.profit for i in result2]\n",
    "mean_profit2, max_profit2 = round(np.mean(result_profits2)), np.max(result_profits2)\n",
    "best_sol = max(result2, key=lambda individual: individual.profit)\n",
    "print(round(time() - st,2), mean_profit2, max_profit2)"
   ]
  },
  {
   "cell_type": "code",
   "execution_count": null,
   "metadata": {},
   "outputs": [],
   "source": []
  }
 ],
 "metadata": {
  "kernelspec": {
   "display_name": "Python 3",
   "language": "python",
   "name": "python3"
  },
  "language_info": {
   "codemirror_mode": {
    "name": "ipython",
    "version": 3
   },
   "file_extension": ".py",
   "mimetype": "text/x-python",
   "name": "python",
   "nbconvert_exporter": "python",
   "pygments_lexer": "ipython3",
   "version": "3.8.3"
  }
 },
 "nbformat": 4,
 "nbformat_minor": 2
}
